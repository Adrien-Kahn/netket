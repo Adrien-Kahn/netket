{
 "cells": [
  {
   "cell_type": "markdown",
   "metadata": {},
   "source": [
    "# Defining Custom Hamiltonians\n",
    "\n",
    "In this tutorial, we will see how to define custom Hamiltonians in NetKet.\n",
    "\n",
    "NetKet provides two ```operator``` classes for defining custom Hamiltonians.\n",
    "\n",
    "1. ```netket.operator.GraphOperator```\n",
    "2. ```netket.operator.LocalOperator```\n",
    "\n",
    "We will explore both of these methods in this tutorial.\n",
    "\n",
    "Let's start."
   ]
  },
  {
   "cell_type": "code",
   "execution_count": 1,
   "metadata": {},
   "outputs": [],
   "source": [
    "# Import netket library\n",
    "import netket as nk\n",
    "\n",
    "# Helper libraries\n",
    "import numpy as np\n",
    "import matplotlib.pyplot as plt"
   ]
  },
  {
   "cell_type": "markdown",
   "metadata": {},
   "source": [
    "## 1) GraphOperator\n",
    "\n",
    "We shall use the ```GraphOperator``` to define the spin half J1-J2 model in one-dimension. The Hamiltonian\n",
    "\n",
    "$$ \\hat{H} = \\sum_{i=1}^{L} J_{1}\\hat{S}_{i} \\cdot \\hat{S}_{i+1} + J_{2} \\hat{S}_{i} \\cdot \\hat{S}_{i+2} $$\n",
    "\n",
    "This is an operator defined on the bonds of a graph. For example, we can define a graph with two types of edges: nearest-neighbour and next-nearest-neighbour. We can then specify a bond operator for each type of edge. This is exactly what we need to define the J1-J2 model above.\n",
    "\n",
    "First, we need a custom graph ``nk.graph.CustomGraph``. To initialise the class we simply provide a list of edges in the ``[[site_i, site_j, edge_color], ...]``. In our example, we give the ```edge_color``` ```1``` for nearest-neighbour edges and the ```2``` for next-nearest-neighbour edges."
   ]
  },
  {
   "cell_type": "code",
   "execution_count": 2,
   "metadata": {},
   "outputs": [
    {
     "name": "stdout",
     "output_type": "stream",
     "text": [
      "This graph has 16 sites\n",
      "with the following set of edges: [[1, 15], [0, 14], [12, 13], [13, 15], [11, 12], [12, 14], [10, 11], [11, 13], [9, 10], [10, 12], [8, 9], [9, 11], [7, 8], [8, 10], [14, 15], [6, 7], [7, 9], [13, 14], [5, 6], [6, 8], [4, 5], [5, 7], [0, 15], [3, 4], [4, 6], [2, 3], [3, 5], [1, 2], [2, 4], [0, 1], [1, 3], [0, 2]]\n"
     ]
    }
   ],
   "source": [
    "# J1-J2 Model Parameters\n",
    "J = [1, 0.2]\n",
    "L = 16\n",
    "\n",
    "# Define custom graph\n",
    "edge_colors = []\n",
    "for i in range(L):\n",
    "    edge_colors.append([i, (i+1)%L, 1])\n",
    "    edge_colors.append([i, (i+2)%L, 2])\n",
    "\n",
    "# Define the netket graph object\n",
    "g = nk.graph.CustomGraph(edge_colors)\n",
    "\n",
    "print('This graph has', g.n_sites, 'sites')\n",
    "print('with the following set of edges:', g.edges)"
   ]
  },
  {
   "cell_type": "markdown",
   "metadata": {},
   "source": [
    "Next, lets define the Hilbert space of our model."
   ]
  },
  {
   "cell_type": "code",
   "execution_count": 3,
   "metadata": {},
   "outputs": [],
   "source": [
    "# Spin based Hilbert Space\n",
    "hi = nk.hilbert.Spin(s=0.5, total_sz=0.0, graph=g)"
   ]
  },
  {
   "cell_type": "markdown",
   "metadata": {},
   "source": [
    "Now, we need to create the relevant bond operators. Since we have two type of terms in our Hamiltonian, we need two different bond operators. To do we simply express the iteraction term as a matrix in the computational basis of the relevant local Hilbert space. In our case, since we are dealing with spin-half degrees of freedom, the local basis of bond is simply $\\lvert \\uparrow \\uparrow \\rangle$, $\\lvert \\uparrow \\downarrow \\rangle$, $\\lvert \\downarrow \\uparrow \\rangle$, $\\lvert \\downarrow \\downarrow \\rangle$. Since\n",
    "\n",
    "\\begin{equation} \n",
    "\\hat{S}_{i} \\cdot \\hat{S}_{i+1} = \\hat{S}_{i}^{z}\\hat{S}_{i+1}^{z} + \\hat{S}_{i}^{x}\\hat{S}_{i+1}^{x} + \\hat{S}_{i}^{y}\\hat{S}_{i+1}^{y} \n",
    "\\end{equation}\n",
    "\n",
    "we just need to represent each term as kronecker product of the standard Pauli matrix.\n"
   ]
  },
  {
   "cell_type": "code",
   "execution_count": 4,
   "metadata": {},
   "outputs": [],
   "source": [
    "# Pauli Matrices\n",
    "sigmaz = [[1, 0], [0, -1]]\n",
    "sigmax = [[0, 1], [1, 0]]\n",
    "sigmay = [[0, -1j], [1j, 0]]\n",
    "\n",
    "# Bond Operator\n",
    "interaction = np.kron(sigmaz, sigmaz) + np.kron(sigmax, sigmax) + np.kron(sigmay, sigmay)  \n",
    "\n",
    "bond_operator = [\n",
    "    (J[0] * interaction).tolist(),\n",
    "    (J[1] * interaction).tolist(),\n",
    "]\n",
    "bond_color = [1, 2]"
   ]
  },
  {
   "cell_type": "markdown",
   "metadata": {},
   "source": [
    "The ```GraphOperator``` can now be defined simply by doing providing the list of bond operators and the corresponding list of bond colors."
   ]
  },
  {
   "cell_type": "code",
   "execution_count": 5,
   "metadata": {},
   "outputs": [],
   "source": [
    "# Custom Graph Hamiltonian operator\n",
    "op = nk.operator.GraphOperator(hi, bondops=bond_operator, bondops_colors=bond_color)"
   ]
  },
  {
   "cell_type": "markdown",
   "metadata": {},
   "source": [
    "The Hamiltonian is now defined and one can proceed to perform variational Monte Carlo or supervised learning or exact diagonalisation. The code snippet below gives us the exact diagonalisation result for the ground state energy of our Hamiltonian."
   ]
  },
  {
   "cell_type": "code",
   "execution_count": 6,
   "metadata": {},
   "outputs": [
    {
     "name": "stdout",
     "output_type": "stream",
     "text": [
      "Exact J1J2 ground state energy = -26.308\n"
     ]
    }
   ],
   "source": [
    "res = nk.exact.lanczos_ed(op, first_n=1, compute_eigenvectors=True)\n",
    "print(\"Exact J1J2 ground state energy = {0:.3f}\".format(res.eigenvalues[0]))"
   ]
  },
  {
   "cell_type": "markdown",
   "metadata": {},
   "source": [
    "## 2) LocalOperator\n",
    "\n",
    "The next method we would use is the ```LocalOperator``` class. Let's use this method to define a one-dimensional spin half transverse field Ising model given by the Hamiltonian:\n",
    "\n",
    "$$ \\hat{H} = -\\sum_{i=1}^{L} \\hat{S}_{i}^{z} \\hat{S}_{i+1}^{z} + h \\sum_{i=1}^{L} \\hat{S}_{i}^{x}  $$.\n",
    "\n",
    "As before, we start by defining the graph on which our degree of freedom sits. \n",
    "\n",
    "Once again, we use the ```CustomGraph```, but this time we do not need to provide our edges with colors. We simply provide it with the list of edges."
   ]
  },
  {
   "cell_type": "code",
   "execution_count": 7,
   "metadata": {},
   "outputs": [],
   "source": [
    "h = 0.5\n",
    "L = 16\n",
    "\n",
    "edges = []\n",
    "for i in range(L):\n",
    "    edges.append([i, (i+1)%L])\n",
    "\n",
    "g = nk.graph.CustomGraph(edges)"
   ]
  },
  {
   "cell_type": "markdown",
   "metadata": {},
   "source": [
    "Next, we define the Hilbert space but without the constraint of on total magnetization ```total_sz```."
   ]
  },
  {
   "cell_type": "code",
   "execution_count": 8,
   "metadata": {},
   "outputs": [],
   "source": [
    "# Spin based Hilbert Space\n",
    "hi = nk.hilbert.Spin(s=0.5, graph=g)"
   ]
  },
  {
   "cell_type": "markdown",
   "metadata": {},
   "source": [
    "Now, we simply define a list of local operators corresponding to the different terms in the Hamiltonian and also  a list containing the sites on which the respective local operators acts on."
   ]
  },
  {
   "cell_type": "code",
   "execution_count": 9,
   "metadata": {},
   "outputs": [],
   "source": [
    "# Pauli Matrices\n",
    "sigmaz = np.array([[1, 0], [0, -1]])\n",
    "sigmax = np.array([[0, 1], [1, 0]])\n",
    "\n",
    "operators = []\n",
    "sites = []\n",
    "\n",
    "# Local Field term\n",
    "for i in range(L):\n",
    "    operators.append((h*sigmax).tolist())\n",
    "    sites.append([i])\n",
    "\n",
    "# Ising iteraction\n",
    "for i in range(L):\n",
    "    operators.append((-np.kron(sigmaz,sigmaz)).tolist())\n",
    "    sites.append([i, (i+1)%L])"
   ]
  },
  {
   "cell_type": "markdown",
   "metadata": {},
   "source": [
    "Then, we create the ```LocalOperator``` by proving the list of operators and the list of sites."
   ]
  },
  {
   "cell_type": "code",
   "execution_count": 10,
   "metadata": {},
   "outputs": [],
   "source": [
    "op = nk.operator.LocalOperator(hi, operators=operators, acting_on=sites)"
   ]
  },
  {
   "cell_type": "code",
   "execution_count": 11,
   "metadata": {},
   "outputs": [
    {
     "name": "stdout",
     "output_type": "stream",
     "text": [
      "Exact transverse Ising ground state energy = -17.017\n"
     ]
    }
   ],
   "source": [
    "res = nk.exact.lanczos_ed(op, first_n=1, compute_eigenvectors=True)\n",
    "print(\"Exact transverse Ising ground state energy = {0:.3f}\".format(res.eigenvalues[0]))"
   ]
  }
 ],
 "metadata": {
  "kernelspec": {
   "display_name": "Python 3",
   "language": "python",
   "name": "python3"
  },
  "language_info": {
   "codemirror_mode": {
    "name": "ipython",
    "version": 3
   },
   "file_extension": ".py",
   "mimetype": "text/x-python",
   "name": "python",
   "nbconvert_exporter": "python",
   "pygments_lexer": "ipython3",
   "version": "3.6.8"
  }
 },
 "nbformat": 4,
 "nbformat_minor": 2
}
